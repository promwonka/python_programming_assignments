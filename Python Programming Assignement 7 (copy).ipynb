{
 "cells": [
  {
   "cell_type": "markdown",
   "metadata": {},
   "source": [
    "### Write a Python Program to find sum of array?"
   ]
  },
  {
   "cell_type": "code",
   "execution_count": 19,
   "metadata": {},
   "outputs": [
    {
     "name": "stdout",
     "output_type": "stream",
     "text": [
      "Enter number of array elements : 3\n",
      "Enter element:1\n",
      "Enter element:1\n",
      "Enter element:1\n",
      "Sum of array elements 3\n"
     ]
    }
   ],
   "source": [
    "def ar_sum(ar):\n",
    "    ln = len(ar)\n",
    "    i = 0\n",
    "    ars = 0\n",
    "    while i < ln:\n",
    "        ars = ars + ar[i]\n",
    "        i = i +1\n",
    "    return ars\n",
    "\n",
    "def arinput():\n",
    "    nterms = int(input(\"Enter number of array elements : \"))\n",
    "    i = 0\n",
    "    ar = []\n",
    "    while i < nterms:\n",
    "        n = int(input(\"Enter element:\"))\n",
    "        ar.append(n)\n",
    "        i = i+1\n",
    "    rslt = ar_sum(ar)\n",
    "    print(\"Sum of array elements\",rslt)\n",
    "    \n",
    "arinput()"
   ]
  },
  {
   "cell_type": "markdown",
   "metadata": {},
   "source": [
    "### Write a Python Program to find largest element in an array?"
   ]
  },
  {
   "cell_type": "code",
   "execution_count": 26,
   "metadata": {},
   "outputs": [
    {
     "name": "stdout",
     "output_type": "stream",
     "text": [
      "Largest element 8\n"
     ]
    }
   ],
   "source": [
    "def ar_large(ar):\n",
    "    ln = len(ar)\n",
    "    i = 0\n",
    "    ars = 0\n",
    "    while i < ln:\n",
    "        if ars > ar[i]:\n",
    "            pass\n",
    "        else:\n",
    "            ars = ar[i]\n",
    "        i = i + 1\n",
    "            \n",
    "    return ars\n",
    "\n",
    "arrayterms = [1,8,3,4]\n",
    "\n",
    "def arinput():\n",
    "    \n",
    "    rslt = ar_large(arrayterms)\n",
    "    print(\"Largest element\",rslt)\n",
    "    \n",
    "arinput()"
   ]
  },
  {
   "cell_type": "markdown",
   "metadata": {},
   "source": [
    "### Write a Python Program for array rotation?"
   ]
  },
  {
   "cell_type": "code",
   "execution_count": 38,
   "metadata": {},
   "outputs": [
    {
     "name": "stdout",
     "output_type": "stream",
     "text": [
      "Enter number of rotations4\n",
      "[1, 8, 3, 4]\n"
     ]
    }
   ],
   "source": [
    "def ar_rot(ar,num):\n",
    "    ln = len(ar)\n",
    "    \n",
    "    k = 0\n",
    "    while k < num:\n",
    "        i = 0\n",
    "        tmp = ar[0]\n",
    "        while i < ln - 1:\n",
    "            ar[i] = ar[i+1]\n",
    "            i = i + 1\n",
    "        ar[ln-1] = tmp\n",
    "        k = k + 1\n",
    "            \n",
    "    return ar\n",
    "\n",
    "arrayterms = [1,8,3,4]\n",
    "\n",
    "def arrt():\n",
    "    num = int(input(\"Enter number of rotations\"))\n",
    "    rslt = ar_rot(arrayterms,num)\n",
    "    print(rslt)\n",
    "    \n",
    "arrt()\n",
    "    "
   ]
  },
  {
   "cell_type": "markdown",
   "metadata": {},
   "source": [
    "### Write a Python Program to Split the array and add the first part to the end?"
   ]
  },
  {
   "cell_type": "code",
   "execution_count": 23,
   "metadata": {},
   "outputs": [
    {
     "name": "stdout",
     "output_type": "stream",
     "text": [
      "Enter Number: 2\n",
      "0.6931471805599453\n"
     ]
    }
   ],
   "source": [
    "import math\n",
    "def natlog():\n",
    "    num = float(input(\"Enter Number: \"))\n",
    "    natural_log = math.log(num)\n",
    "    print(natural_log)\n",
    "    \n",
    "natlog()"
   ]
  },
  {
   "cell_type": "markdown",
   "metadata": {},
   "source": [
    "### Write a Python Program to check if given array is Monotonic?"
   ]
  },
  {
   "cell_type": "code",
   "execution_count": 31,
   "metadata": {},
   "outputs": [
    {
     "name": "stdout",
     "output_type": "stream",
     "text": [
      "Enter Number: 5.3\n",
      "36\n"
     ]
    }
   ],
   "source": [
    "def sumOfSeries(n):\n",
    "    sum = 0\n",
    "    for i in range(1, n+1):\n",
    "        sum +=i*i*i\n",
    "          \n",
    "    return sum\n",
    "  \n",
    "   \n",
    "# Driver Function\n",
    "num = float(input(\"Enter Number: \"))\n",
    "print(sumOfSeries(n))"
   ]
  },
  {
   "cell_type": "code",
   "execution_count": null,
   "metadata": {},
   "outputs": [],
   "source": []
  }
 ],
 "metadata": {
  "kernelspec": {
   "display_name": "Python 3",
   "language": "python",
   "name": "python3"
  },
  "language_info": {
   "codemirror_mode": {
    "name": "ipython",
    "version": 3
   },
   "file_extension": ".py",
   "mimetype": "text/x-python",
   "name": "python",
   "nbconvert_exporter": "python",
   "pygments_lexer": "ipython3",
   "version": "3.8.10"
  }
 },
 "nbformat": 4,
 "nbformat_minor": 4
}
