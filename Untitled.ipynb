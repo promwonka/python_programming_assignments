{
 "cells": [
  {
   "cell_type": "code",
   "execution_count": 8,
   "metadata": {},
   "outputs": [
    {
     "name": "stdout",
     "output_type": "stream",
     "text": [
      "Enter the numberhi im\n",
      "The sorted words are:\n",
      "hi\n",
      "im\n"
     ]
    }
   ],
   "source": [
    "def word_sort() :\n",
    "    my_str = (input(\"Enter the number\"))\n",
    "    words = [word.lower() for word in my_str.split()]\n",
    "    words.sort()\n",
    "    return words\n",
    "\n",
    "def output_w():\n",
    "    words = word_sort()\n",
    "    print(\"The sorted words are:\")\n",
    "    for word in words:\n",
    "       print(word)\n",
    "    \n",
    "output_w()"
   ]
  },
  {
   "cell_type": "code",
   "execution_count": null,
   "metadata": {},
   "outputs": [],
   "source": []
  }
 ],
 "metadata": {
  "kernelspec": {
   "display_name": "Python 3",
   "language": "python",
   "name": "python3"
  },
  "language_info": {
   "codemirror_mode": {
    "name": "ipython",
    "version": 3
   },
   "file_extension": ".py",
   "mimetype": "text/x-python",
   "name": "python",
   "nbconvert_exporter": "python",
   "pygments_lexer": "ipython3",
   "version": "3.8.10"
  }
 },
 "nbformat": 4,
 "nbformat_minor": 4
}
