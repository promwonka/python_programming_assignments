{
 "cells": [
  {
   "cell_type": "markdown",
   "metadata": {},
   "source": [
    "### Write a Python Program to find sum of array?"
   ]
  },
  {
   "cell_type": "code",
   "execution_count": 7,
   "metadata": {},
   "outputs": [
    {
     "ename": "IndentationError",
     "evalue": "expected an indented block (<ipython-input-7-87e46f611b00>, line 6)",
     "output_type": "error",
     "traceback": [
      "\u001b[0;36m  File \u001b[0;32m\"<ipython-input-7-87e46f611b00>\"\u001b[0;36m, line \u001b[0;32m6\u001b[0m\n\u001b[0;31m    def arinput():\u001b[0m\n\u001b[0m    ^\u001b[0m\n\u001b[0;31mIndentationError\u001b[0m\u001b[0;31m:\u001b[0m expected an indented block\n"
     ]
    }
   ],
   "source": [
    "def ar_sum(n):\n",
    "    ln = len(ar)\n",
    "    if \n",
    "    \n",
    "\n",
    "\n",
    "def arinput():\n",
    "    nterms = int(input(\"Enter number of array elements\"))\n",
    "    i = 0\n",
    "    ar = []\n",
    "    while i <nterms:\n",
    "        n = int(input(\"Enter element \", i, \":\"))\n",
    "        ar.append(n)\n",
    "        i = i+1\n",
    "    \n",
    "    ar_sum(ar) \n"
   ]
  },
  {
   "cell_type": "code",
   "execution_count": 6,
   "metadata": {},
   "outputs": [
    {
     "data": {
      "text/plain": [
       "[1230, 1230, 1230]"
      ]
     },
     "execution_count": 6,
     "metadata": {},
     "output_type": "execute_result"
    }
   ],
   "source": []
  },
  {
   "cell_type": "markdown",
   "metadata": {},
   "source": [
    "### Write a Python Program to find largest element in an array?"
   ]
  },
  {
   "cell_type": "code",
   "execution_count": 13,
   "metadata": {},
   "outputs": [
    {
     "name": "stdout",
     "output_type": "stream",
     "text": [
      "Enter the number5\n",
      "The factorial of 5 is 120\n"
     ]
    }
   ],
   "source": [
    "# Factorial of a number using recursion\n",
    "\n",
    "def recur_fact(n):\n",
    "   if n == 1:\n",
    "       return n\n",
    "   else:\n",
    "       return n*recur_factorial(n-1)\n",
    "\n",
    "def fact_rec():\n",
    "    num = int(input(\"Enter the number\"))\n",
    "\n",
    "    if num < 0:\n",
    "       print(\"Sorry, factorial does not exist for negative numbers\")\n",
    "    elif num == 0:\n",
    "       print(\"The factorial of 0 is 1\")\n",
    "    else:\n",
    "       print(\"The factorial of\", num, \"is\", recur_fact(num))\n",
    "\n",
    "fact_rec()\n"
   ]
  },
  {
   "cell_type": "markdown",
   "metadata": {},
   "source": [
    "### Write a Python Program for array rotation?"
   ]
  },
  {
   "cell_type": "code",
   "execution_count": 16,
   "metadata": {},
   "outputs": [
    {
     "name": "stdout",
     "output_type": "stream",
     "text": [
      "Enter weight62\n",
      "Enter height in metres1.7\n",
      "BMI is  21.453287197231838\n"
     ]
    }
   ],
   "source": [
    "def bmi():\n",
    "    num = float(input(\"Enter weight\"))\n",
    "    num2 = float(input(\"Enter height in metres\"))\n",
    "    \n",
    "    bmindex = num/(num2*num2)\n",
    "    print('BMI is ', bmindex)\n",
    "bmi()\n",
    "    "
   ]
  },
  {
   "cell_type": "markdown",
   "metadata": {},
   "source": [
    "### Write a Python Program to Split the array and add the first part to the end?"
   ]
  },
  {
   "cell_type": "code",
   "execution_count": 23,
   "metadata": {},
   "outputs": [
    {
     "name": "stdout",
     "output_type": "stream",
     "text": [
      "Enter Number: 2\n",
      "0.6931471805599453\n"
     ]
    }
   ],
   "source": [
    "import math\n",
    "def natlog():\n",
    "    num = float(input(\"Enter Number: \"))\n",
    "    natural_log = math.log(num)\n",
    "    print(natural_log)\n",
    "    \n",
    "natlog()"
   ]
  },
  {
   "cell_type": "markdown",
   "metadata": {},
   "source": [
    "### Write a Python Program to check if given array is Monotonic?"
   ]
  },
  {
   "cell_type": "code",
   "execution_count": 31,
   "metadata": {},
   "outputs": [
    {
     "name": "stdout",
     "output_type": "stream",
     "text": [
      "Enter Number: 5.3\n",
      "36\n"
     ]
    }
   ],
   "source": [
    "def sumOfSeries(n):\n",
    "    sum = 0\n",
    "    for i in range(1, n+1):\n",
    "        sum +=i*i*i\n",
    "          \n",
    "    return sum\n",
    "  \n",
    "   \n",
    "# Driver Function\n",
    "num = float(input(\"Enter Number: \"))\n",
    "print(sumOfSeries(n))"
   ]
  },
  {
   "cell_type": "code",
   "execution_count": null,
   "metadata": {},
   "outputs": [],
   "source": []
  }
 ],
 "metadata": {
  "kernelspec": {
   "display_name": "Python 3",
   "language": "python",
   "name": "python3"
  },
  "language_info": {
   "codemirror_mode": {
    "name": "ipython",
    "version": 3
   },
   "file_extension": ".py",
   "mimetype": "text/x-python",
   "name": "python",
   "nbconvert_exporter": "python",
   "pygments_lexer": "ipython3",
   "version": "3.8.10"
  }
 },
 "nbformat": 4,
 "nbformat_minor": 4
}
