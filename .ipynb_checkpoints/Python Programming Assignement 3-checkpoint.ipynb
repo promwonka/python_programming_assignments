{
 "cells": [
  {
   "cell_type": "markdown",
   "metadata": {},
   "source": [
    "Write a Python Program to Check if a Number is Positive, Negative or Zero?"
   ]
  },
  {
   "cell_type": "code",
   "execution_count": 1,
   "metadata": {},
   "outputs": [],
   "source": [
    "def comp():\n",
    "    a = int(input(\"Enter number: \"))\n",
    "    \n",
    "    if a>0:\n",
    "        print('Positive')\n",
    "    elif a==0:\n",
    "        print('Zero')\n",
    "    else:\n",
    "        print('Negative')\n",
    "        \n"
   ]
  },
  {
   "cell_type": "markdown",
   "metadata": {},
   "source": [
    "Write a Python Program to Check if a Number is Odd or Even?"
   ]
  },
  {
   "cell_type": "code",
   "execution_count": 5,
   "metadata": {},
   "outputs": [],
   "source": [
    "def evenodd():\n",
    "    a = int(input(\"Enter number: \"))\n",
    "    \n",
    "    if a%2 == 0:\n",
    "        print('Even')\n",
    "    elif a==0:\n",
    "        print('Zero')\n",
    "    else:\n",
    "        print('Odd')\n",
    "        "
   ]
  },
  {
   "cell_type": "markdown",
   "metadata": {},
   "source": [
    "Write a Python Program to Check Leap Year?"
   ]
  },
  {
   "cell_type": "code",
   "execution_count": 8,
   "metadata": {},
   "outputs": [],
   "source": [
    "def leap():\n",
    "    a = int(input(\"Enter year: \"))\n",
    "    \n",
    "    if a%4 == 0:\n",
    "        print('Leap year')\n",
    "    else:\n",
    "        print('Not a leap year')\n",
    " \n",
    "        "
   ]
  },
  {
   "cell_type": "markdown",
   "metadata": {},
   "source": [
    "Write a Python Program to Check Prime Number?"
   ]
  },
  {
   "cell_type": "code",
   "execution_count": 63,
   "metadata": {},
   "outputs": [],
   "source": [
    "def prn():\n",
    "    a = int(input(\"Enter number: \"))\n",
    "    i = 2\n",
    "    k = 1\n",
    "    if a==1:\n",
    "            print('neither composite nor prime')\n",
    "            k = k +1\n",
    "    else:\n",
    "        while (i<((a/2))):           \n",
    "            if(a%i == 0):\n",
    "                print('not a prime number')\n",
    "                k = k+1\n",
    "                break\n",
    "            else:\n",
    "                \n",
    "                pass\n",
    "            i = i+1\n",
    "    if k==1:\n",
    "        print('prime number') "
   ]
  },
  {
   "cell_type": "markdown",
   "metadata": {},
   "source": [
    "Write a Python Program to Print all Prime Numbers in an Interval of 1-10000?"
   ]
  },
  {
   "cell_type": "code",
   "execution_count": 71,
   "metadata": {},
   "outputs": [],
   "source": [
    "def prbtwn():\n",
    "    a = 1\n",
    "    while a <= 10:\n",
    "        i = 2\n",
    "        k = 1\n",
    "        if a==1:\n",
    "                pass\n",
    "        else:\n",
    "            while (i<((a/2))):           \n",
    "                if(a%i == 0):\n",
    "                    #print('not a prime number')\n",
    "                    k = k+1\n",
    "                    break\n",
    "                else:\n",
    "                    pass\n",
    "                i = i+1\n",
    "        if k==1:\n",
    "            print('prime number', a) \n",
    "        a = a+1"
   ]
  },
  {
   "cell_type": "code",
   "execution_count": 72,
   "metadata": {},
   "outputs": [
    {
     "name": "stdout",
     "output_type": "stream",
     "text": [
      "prime number 1\n",
      "prime number 2\n",
      "prime number 3\n",
      "prime number 4\n",
      "prime number 5\n",
      "prime number 7\n"
     ]
    }
   ],
   "source": [
    "prbtwn()"
   ]
  },
  {
   "cell_type": "code",
   "execution_count": null,
   "metadata": {},
   "outputs": [],
   "source": []
  }
 ],
 "metadata": {
  "kernelspec": {
   "display_name": "Python 3",
   "language": "python",
   "name": "python3"
  },
  "language_info": {
   "codemirror_mode": {
    "name": "ipython",
    "version": 3
   },
   "file_extension": ".py",
   "mimetype": "text/x-python",
   "name": "python",
   "nbconvert_exporter": "python",
   "pygments_lexer": "ipython3",
   "version": "3.8.10"
  }
 },
 "nbformat": 4,
 "nbformat_minor": 4
}
