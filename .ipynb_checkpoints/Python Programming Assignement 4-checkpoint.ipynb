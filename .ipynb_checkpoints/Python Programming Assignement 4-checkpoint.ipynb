{
 "cells": [
  {
   "cell_type": "markdown",
   "metadata": {},
   "source": [
    "Write a Python Program to Find the Factorial of a Number?"
   ]
  },
  {
   "cell_type": "code",
   "execution_count": 1,
   "metadata": {},
   "outputs": [],
   "source": [
    "def fact():\n",
    "    a = int(input(\"Enter number: \"))\n",
    "    i = 1\n",
    "    e = 1\n",
    "    while (i<=a):\n",
    "        e = i*e\n",
    "        i = i+1\n",
    "    print('factorial:',e)\n",
    "        \n"
   ]
  },
  {
   "cell_type": "markdown",
   "metadata": {},
   "source": [
    "Write a Python Program to Display the multiplication Table?"
   ]
  },
  {
   "cell_type": "code",
   "execution_count": 18,
   "metadata": {},
   "outputs": [],
   "source": [
    "def mtab():\n",
    "    a = int(input(\"Enter number: \"))\n",
    "    k = a\n",
    "    i = 1\n",
    "    print('multiplication table')\n",
    "    print('-------------------')\n",
    "    while (i<=10):\n",
    "        k = i*k\n",
    "        print(i,'*',a,'=',k)\n",
    "        i = i+1\n",
    "        k = a"
   ]
  },
  {
   "cell_type": "markdown",
   "metadata": {},
   "source": [
    "Write a Python Program to Print the Fibonacci sequence?"
   ]
  },
  {
   "cell_type": "code",
   "execution_count": 23,
   "metadata": {},
   "outputs": [],
   "source": [
    "def fib():\n",
    "    a = int(input(\"Enter number: \"))\n",
    "    print('numbers are :')\n",
    "    print('0')\n",
    "    print('1')\n",
    "    i = 2\n",
    "    k = 0\n",
    "    m = 1\n",
    "    while(i<=a):\n",
    "        t = m\n",
    "        m = k+m\n",
    "        k = t\n",
    "        \n",
    "        print(m)\n",
    "        i = i+1\n",
    "        \n",
    "    "
   ]
  },
  {
   "cell_type": "code",
   "execution_count": 71,
   "metadata": {},
   "outputs": [],
   "source": [
    "def amstr():\n",
    "    a = int(input(\"Enter number: \"))\n",
    "    myinteger = a\n",
    "    number_string = str(myinteger)\n",
    "    ln = len(number_string)\n",
    "    sum = 0\n",
    "    i = 0    \n",
    "    while (i<ln):\n",
    "        k = (int(number_string[i:i+1])*int(number_string[i:i+1])*int(number_string[i:i+1]))\n",
    "        sum = k + sum\n",
    "        i = i+1\n",
    "        \n",
    "    if sum == a:\n",
    "        print(\"It's an Armstrong number\")\n",
    "        \n",
    "    else:\n",
    "        print(\"It's NOT an Armstrong number\")\n",
    "        "
   ]
  },
  {
   "cell_type": "code",
   "execution_count": 77,
   "metadata": {},
   "outputs": [],
   "source": [
    "def amstr_range():\n",
    "    m = int(input(\"Enter range: \"))\n",
    "    n = 0\n",
    "    while (n < m):\n",
    "        a = n\n",
    "        myinteger = a\n",
    "        number_string = str(myinteger)\n",
    "        ln = len(number_string)\n",
    "        sum = 0\n",
    "        i = 0    \n",
    "        while (i<ln):\n",
    "            k = (int(number_string[i:i+1])*int(number_string[i:i+1])*int(number_string[i:i+1]))\n",
    "            sum = k + sum\n",
    "            i = i+1\n",
    "\n",
    "        if sum == a:\n",
    "            print(sum,\"is an Armstrong number\")\n",
    "    \n",
    "        n = n+1\n"
   ]
  },
  {
   "cell_type": "code",
   "execution_count": 83,
   "metadata": {},
   "outputs": [],
   "source": [
    "def nat_sum():\n",
    "    n = int(input(\"Enter range: \"))\n",
    "    sum = n*(n+1)/2\n",
    "    print('sum of',n,'natural numbers = ', sum)"
   ]
  },
  {
   "cell_type": "code",
   "execution_count": 87,
   "metadata": {},
   "outputs": [
    {
     "name": "stdout",
     "output_type": "stream",
     "text": [
      "Enter range: 10\n",
      "sum of 10 natural numbers =  55.0\n"
     ]
    }
   ],
   "source": []
  },
  {
   "cell_type": "code",
   "execution_count": null,
   "metadata": {},
   "outputs": [],
   "source": []
  }
 ],
 "metadata": {
  "kernelspec": {
   "display_name": "Python 3",
   "language": "python",
   "name": "python3"
  },
  "language_info": {
   "codemirror_mode": {
    "name": "ipython",
    "version": 3
   },
   "file_extension": ".py",
   "mimetype": "text/x-python",
   "name": "python",
   "nbconvert_exporter": "python",
   "pygments_lexer": "ipython3",
   "version": "3.8.10"
  }
 },
 "nbformat": 4,
 "nbformat_minor": 4
}
