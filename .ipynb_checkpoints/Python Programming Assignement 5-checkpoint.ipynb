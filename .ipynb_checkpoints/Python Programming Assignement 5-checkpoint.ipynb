{
 "cells": [
  {
   "cell_type": "markdown",
   "metadata": {},
   "source": [
    "### Write a Python Program to Find LCM"
   ]
  },
  {
   "cell_type": "code",
   "execution_count": 49,
   "metadata": {},
   "outputs": [
    {
     "name": "stdout",
     "output_type": "stream",
     "text": [
      "Enter number of inputs: 1\n",
      "Enter the number1\n",
      "LCM is 1\n"
     ]
    }
   ],
   "source": [
    "def compute_gcd(x, y):\n",
    "\n",
    "   while(y):\n",
    "       x, y = y, x % y\n",
    "   return x\n",
    "\n",
    "def lcm():\n",
    "    a = int(input(\"Enter number of inputs: \"))\n",
    "    x =1\n",
    "    ls = []\n",
    "    while a>0:\n",
    "        m = int(input(\"Enter the number\"))\n",
    "        ls.append(m)\n",
    "        a = a-1\n",
    "        x = x+1\n",
    "    lcm = 1\n",
    "    for i in ls:\n",
    "        lcm = lcm*i//compute_gcd(lcm, i)\n",
    "    print('LCM is',lcm)\n",
    "    \n",
    "lcm()"
   ]
  },
  {
   "cell_type": "markdown",
   "metadata": {},
   "source": [
    "### Write a Python Program to Find HCF?"
   ]
  },
  {
   "cell_type": "markdown",
   "metadata": {},
   "source": [
    "def compute_gcd(x, y):\n",
    "\n",
    "   while(y):\n",
    "       x, y = y, x % y\n",
    "   return x\n",
    "\n",
    "def HCF():\n",
    "    a = int(input(\"Enter number of inputs: \"))\n",
    "    x =1\n",
    "    ls = []\n",
    "    while a>0:\n",
    "        m = int(input(\"Enter the number\"))\n",
    "        ls.append(m)\n",
    "        a = a-1\n",
    "        x = x+1\n",
    "    gcd = ls[0]\n",
    "    for i in ls:\n",
    "        gcd= compute_gcd(gcd, i)\n",
    "    print('HCF is',gcd)\n",
    "    \n",
    "HCF()"
   ]
  },
  {
   "cell_type": "markdown",
   "metadata": {},
   "source": [
    "Write a Python Program to Convert Decimal to Binary, Octal and Hexadecimal?"
   ]
  },
  {
   "cell_type": "code",
   "execution_count": null,
   "metadata": {},
   "outputs": [],
   "source": []
  }
 ],
 "metadata": {
  "kernelspec": {
   "display_name": "Python 3",
   "language": "python",
   "name": "python3"
  },
  "language_info": {
   "codemirror_mode": {
    "name": "ipython",
    "version": 3
   },
   "file_extension": ".py",
   "mimetype": "text/x-python",
   "name": "python",
   "nbconvert_exporter": "python",
   "pygments_lexer": "ipython3",
   "version": "3.8.5"
  }
 },
 "nbformat": 4,
 "nbformat_minor": 4
}
