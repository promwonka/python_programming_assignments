{
 "cells": [
  {
   "cell_type": "code",
   "execution_count": 3,
   "metadata": {},
   "outputs": [],
   "source": [
    "def conversion(inp):\n",
    "    miles = inp*0.6214\n",
    "    return miles"
   ]
  },
  {
   "cell_type": "code",
   "execution_count": 5,
   "metadata": {},
   "outputs": [],
   "source": [
    "def CtoF(inp):\n",
    "    fahr = ((inp/5)*9) + 32\n",
    "    return fahr"
   ]
  },
  {
   "cell_type": "code",
   "execution_count": 8,
   "metadata": {},
   "outputs": [],
   "source": [
    "# Program to display calendar of the given month and year\n",
    "import calendar\n",
    "\n",
    "def cal():\n",
    "    yy = int(input(\"Enter year: \"))\n",
    "    mm = int(input(\"Enter month: \"))\n",
    "\n",
    "    # display the calendar\n",
    "    print(calendar.month(yy, mm))"
   ]
  },
  {
   "cell_type": "code",
   "execution_count": 39,
   "metadata": {},
   "outputs": [],
   "source": [
    "import math\n",
    "def quad():\n",
    "    \n",
    "    a = int(input(\"coefficient of x*x : \"))\n",
    "    b = int(input(\"coefficient of x: \"))\n",
    "    c = int(input(\"Constant: \"))\n",
    "    \n",
    "    descr = b*b - 4*a*c\n",
    "    \n",
    "    if descr >= 0:\n",
    "        sqr = math.sqrt(descr)\n",
    "        x1 = (-b + sqr)/2*a\n",
    "        x2 = (-b - sqr)/2*a\n",
    "        print('roots are:',x1,'and',x2)\n",
    "        \n",
    "    else:\n",
    "        print('The quation has imaginary roots')"
   ]
  },
  {
   "cell_type": "code",
   "execution_count": 42,
   "metadata": {},
   "outputs": [],
   "source": [
    "def swapt():\n",
    "    a = int(input(\"first number : \"))\n",
    "    b = int(input(\"second number: \"))\n",
    "    \n",
    "    a = a + b\n",
    "    b = a - b\n",
    "    a = a - b\n",
    "    \n",
    "    print('swapped numbers are:',a,'and',b)\n",
    "    "
   ]
  },
  {
   "cell_type": "code",
   "execution_count": 44,
   "metadata": {},
   "outputs": [
    {
     "name": "stdout",
     "output_type": "stream",
     "text": [
      "first number : 10\n",
      "second number: 12\n",
      "swapped numbers are: 12 and 10\n"
     ]
    }
   ],
   "source": [
    "swapt()"
   ]
  },
  {
   "cell_type": "code",
   "execution_count": null,
   "metadata": {},
   "outputs": [],
   "source": []
  }
 ],
 "metadata": {
  "kernelspec": {
   "display_name": "Python 3",
   "language": "python",
   "name": "python3"
  },
  "language_info": {
   "codemirror_mode": {
    "name": "ipython",
    "version": 3
   },
   "file_extension": ".py",
   "mimetype": "text/x-python",
   "name": "python",
   "nbconvert_exporter": "python",
   "pygments_lexer": "ipython3",
   "version": "3.8.5"
  }
 },
 "nbformat": 4,
 "nbformat_minor": 4
}
