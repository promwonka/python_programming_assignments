{
 "cells": [
  {
   "cell_type": "markdown",
   "metadata": {},
   "source": [
    "### Write a Python Program to Find LCM"
   ]
  },
  {
   "cell_type": "code",
   "execution_count": 49,
   "metadata": {},
   "outputs": [
    {
     "name": "stdout",
     "output_type": "stream",
     "text": [
      "Enter number of inputs: 1\n",
      "Enter the number1\n",
      "LCM is 1\n"
     ]
    }
   ],
   "source": [
    "def compute_gcd(x, y):\n",
    "\n",
    "   while(y):\n",
    "       x, y = y, x % y\n",
    "   return x\n",
    "\n",
    "def lcm():\n",
    "    a = int(input(\"Enter number of inputs: \"))\n",
    "    x =1\n",
    "    ls = []\n",
    "    while a>0:\n",
    "        m = int(input(\"Enter the number\"))\n",
    "        ls.append(m)\n",
    "        a = a-1\n",
    "        x = x+1\n",
    "    lcm = 1\n",
    "    for i in ls:\n",
    "        lcm = lcm*i//compute_gcd(lcm, i)\n",
    "    print('LCM is',lcm)\n",
    "    \n",
    "lcm()"
   ]
  },
  {
   "cell_type": "markdown",
   "metadata": {},
   "source": [
    "### Write a Python Program to Find HCF?"
   ]
  },
  {
   "cell_type": "code",
   "execution_count": 62,
   "metadata": {},
   "outputs": [
    {
     "name": "stdout",
     "output_type": "stream",
     "text": [
      "Enter number of inputs: 1\n",
      "Enter the number1\n",
      "HCF is 1\n"
     ]
    }
   ],
   "source": [
    "def compute_gcd(x, y):\n",
    "\n",
    "   while(y):\n",
    "       x, y = y, x % y\n",
    "   return x\n",
    "\n",
    "def HCF():\n",
    "    a = int(input(\"Enter number of inputs: \"))\n",
    "    x =1\n",
    "    ls = []\n",
    "    while a>0:\n",
    "        m = int(input(\"Enter the number\"))\n",
    "        ls.append(m)\n",
    "        a = a-1\n",
    "        x = x+1\n",
    "    gcd = ls[0]\n",
    "    for i in ls:\n",
    "        gcd= compute_gcd(gcd, i)\n",
    "    print('HCF is',gcd)\n",
    "    \n",
    "HCF()"
   ]
  },
  {
   "cell_type": "markdown",
   "metadata": {},
   "source": [
    "### Write a Python Program to Convert Decimal to Binary, Octal and Hexadecimal?"
   ]
  },
  {
   "cell_type": "code",
   "execution_count": 101,
   "metadata": {},
   "outputs": [],
   "source": [
    "def convertToBinary(n):\n",
    "    if n > 1:\n",
    "        convertToBinary(n//2)\n",
    "    print(n % 2,end = '')\n",
    "    \n",
    "def convertToOctal(n):\n",
    "    if n > 1:\n",
    "        convertToBinary(n//8)\n",
    "    print(n % 8,end = '')\n",
    "    \n",
    "def convertToHexa(n):\n",
    "    if n > 1:\n",
    "        convertToBinary(n//16)\n",
    "    print(n % 16,end = '')    "
   ]
  },
  {
   "cell_type": "code",
   "execution_count": 108,
   "metadata": {},
   "outputs": [
    {
     "name": "stdout",
     "output_type": "stream",
     "text": [
      "11"
     ]
    }
   ],
   "source": [
    "convertToBinary(3)\n",
    "# convertToOctal(9)\n",
    "# convertToHexa(17)"
   ]
  },
  {
   "cell_type": "code",
   "execution_count": 111,
   "metadata": {},
   "outputs": [
    {
     "name": "stdout",
     "output_type": "stream",
     "text": [
      "Enter number 8\n",
      "The decimal value of 8 is:\n",
      "0b1000 in binary.\n",
      "0o10 in octal.\n",
      "0x8 in hexadecimal.\n"
     ]
    }
   ],
   "source": [
    "# Alternative\n",
    "\n",
    "dec = int(input(\"Enter number \"))\n",
    "\n",
    "print(\"The decimal value of\", dec, \"is:\")\n",
    "print(bin(dec), \"in binary.\")\n",
    "print(oct(dec), \"in octal.\")\n",
    "print(hex(dec), \"in hexadecimal.\")\n",
    "\n"
   ]
  },
  {
   "cell_type": "markdown",
   "metadata": {},
   "source": [
    "### Write a Python Program To Find ASCII value of a character?"
   ]
  },
  {
   "cell_type": "code",
   "execution_count": null,
   "metadata": {},
   "outputs": [],
   "source": []
  },
  {
   "cell_type": "markdown",
   "metadata": {},
   "source": [
    "### Write a Python Program to Make a Simple Calculator with 4 basic mathematical operations?"
   ]
  },
  {
   "cell_type": "code",
   "execution_count": null,
   "metadata": {},
   "outputs": [],
   "source": []
  },
  {
   "cell_type": "code",
   "execution_count": null,
   "metadata": {},
   "outputs": [],
   "source": []
  }
 ],
 "metadata": {
  "kernelspec": {
   "display_name": "Python 3",
   "language": "python",
   "name": "python3"
  },
  "language_info": {
   "codemirror_mode": {
    "name": "ipython",
    "version": 3
   },
   "file_extension": ".py",
   "mimetype": "text/x-python",
   "name": "python",
   "nbconvert_exporter": "python",
   "pygments_lexer": "ipython3",
   "version": "3.8.5"
  }
 },
 "nbformat": 4,
 "nbformat_minor": 4
}
